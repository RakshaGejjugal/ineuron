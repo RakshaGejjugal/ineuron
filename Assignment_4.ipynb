{
 "cells": [
  {
   "cell_type": "markdown",
   "metadata": {},
   "source": [
    "# 1.1 Write a Python Program(with class concepts) to find the area ofthe triangle using the below formula. area = (s*(s-a)*(s-b)*(s-c)) ** 0.5\n",
    "# Function to take the length of the sides of triangle from user should be defined in the parent class and\n",
    "# function to calculate the area should be defined in subclass."
   ]
  },
  {
   "cell_type": "code",
   "execution_count": 6,
   "metadata": {},
   "outputs": [
    {
     "name": "stdout",
     "output_type": "stream",
     "text": [
      "area =  24.0\n"
     ]
    }
   ],
   "source": [
    "class Triangle:\n",
    "\n",
    "       def __init__(self, a, b, c):\n",
    "               self.a=a\n",
    "               self.b=b\n",
    "               self.c=c\n",
    "       def area(self):\n",
    "               s=(self.a+self.b+self.c)/2\n",
    "               area=math.sqrt(s*(s-self.a)*(s-self.b)*(s-self.c))**0.5\n",
    "               return area\n",
    "if __name__=='__main__':\n",
    "       t1=Triangle(4,13,15)\n",
    "       print ('area = ',t1.area())"
   ]
  },
  {
   "cell_type": "code",
   "execution_count": 7,
   "metadata": {},
   "outputs": [
    {
     "name": "stdout",
     "output_type": "stream",
     "text": [
      "area =  43.30127018922193\n"
     ]
    }
   ],
   "source": [
    "class EquiTriangle(Triangle):\n",
    "\n",
    "       def __init__(self, a):\n",
    "               b=a\n",
    "               c=a\n",
    "               super().__init__(a,b,c)\n",
    "t2=EquiTriangle(10)\n",
    "print ('area = ',t2.area())"
   ]
  },
  {
   "cell_type": "markdown",
   "metadata": {},
   "source": [
    "# 1.2 Write a function filter_long_words() that takes a list of words and an integer n and returns the list of words that are longer than n."
   ]
  },
  {
   "cell_type": "code",
   "execution_count": 8,
   "metadata": {},
   "outputs": [
    {
     "name": "stdout",
     "output_type": "stream",
     "text": [
      "['Raghavendra']\n"
     ]
    }
   ],
   "source": [
    "def filter_long_words(n, str):  \n",
    "    word_len = []  \n",
    "    txt = str.split(\" \")  \n",
    "    for x in txt:  \n",
    "        if len(x) > n:  \n",
    "            word_len.append(x)  \n",
    "    return word_len   \n",
    "print(long_words(6, \"The quick brown fox jumps Raghavendra over the lazy dog\")) "
   ]
  },
  {
   "cell_type": "markdown",
   "metadata": {},
   "source": [
    "# 2.1 Write a Python program using function concept that maps list of words into a list of integers representing the lengths of the corresponding words.\n",
    "# Hint: If a list [ ab,cde,erty] is passed on to the python function output should come as [2,3,4]\n",
    "# Here 2,3 and 4 are the lengths of the words in the list.\n"
   ]
  },
  {
   "cell_type": "code",
   "execution_count": 9,
   "metadata": {},
   "outputs": [
    {
     "name": "stdout",
     "output_type": "stream",
     "text": [
      "List of Word: Tara Manjakshamma Raksha Papamma\n",
      "List of wordlength:[4, 12, 6, 7]\n"
     ]
    }
   ],
   "source": [
    "listOfWords = input('List of Word: ').split() \n",
    "listOfInts = []\n",
    " \n",
    "for i in range(len(listOfWords)):\n",
    "    listOfInts.append(len(listOfWords[i]))\n",
    "     \n",
    "print (\"List of wordlength:\"+str(listOfInts))"
   ]
  },
  {
   "cell_type": "markdown",
   "metadata": {},
   "source": [
    "# 2.2 Write a Python function which takes a character (i.e. a string of length 1) and returns True if it is a vowel, False otherwise"
   ]
  },
  {
   "cell_type": "code",
   "execution_count": 32,
   "metadata": {},
   "outputs": [
    {
     "name": "stdout",
     "output_type": "stream",
     "text": [
      "Enter the string to check\n",
      "i\n",
      "The enterted character is Vowel\n"
     ]
    }
   ],
   "source": [
    "def vowelChecker (inputChar):\n",
    " \n",
    " \"\"\" Function to check whether a char is vowel or not \"\"\"\n",
    " \n",
    " if(inputChar == \"a\" or inputChar == \"A\" or\n",
    "    inputChar == \"e\" or inputChar == \"E\" or\n",
    "    inputChar == \"i\" or inputChar == \"I\" or\n",
    "    inputChar == \"o\" or inputChar == \"O\" or\n",
    "    inputChar == \"u\" or inputChar == \"U\"):\n",
    "    return \"True\"\n",
    " else:\n",
    "    return \"False\"\n",
    " \n",
    "print (\"Enter the string to check\")\n",
    "inputChar = input()\n",
    " \n",
    "if vowelChecker(inputChar) == \"True\":\n",
    "    print(\"The enterted character is Vowel\")\n",
    "else:\n",
    "    print(\"The enterted character is not Vowel\")"
   ]
  },
  {
   "cell_type": "code",
   "execution_count": null,
   "metadata": {},
   "outputs": [],
   "source": []
  }
 ],
 "metadata": {
  "kernelspec": {
   "display_name": "Python 3",
   "language": "python",
   "name": "python3"
  },
  "language_info": {
   "codemirror_mode": {
    "name": "ipython",
    "version": 3
   },
   "file_extension": ".py",
   "mimetype": "text/x-python",
   "name": "python",
   "nbconvert_exporter": "python",
   "pygments_lexer": "ipython3",
   "version": "3.8.8"
  }
 },
 "nbformat": 4,
 "nbformat_minor": 4
}
